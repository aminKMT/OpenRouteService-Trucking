{
 "cells": [
  {
   "cell_type": "markdown",
   "id": "c46a6de2",
   "metadata": {},
   "source": [
    "# Utilize the OpenRouteService API to estimate the travel time for trucking between the provided origin and destination addresses."
   ]
  },
  {
   "cell_type": "markdown",
   "id": "d7eabc08",
   "metadata": {},
   "source": [
    "Defining Functions to estimate travel time for trucking travel mode: \n"
   ]
  },
  {
   "cell_type": "code",
   "execution_count": 3,
   "id": "b603fec3",
   "metadata": {},
   "outputs": [],
   "source": [
    "#Defining Functions t estimate travel time fro truck mode \n",
    "import requests\n",
    "\n",
    "def get_coordinates(address, api_key):\n",
    "    url = f\"https://api.openrouteservice.org/geocode/search?api_key={api_key}&text={address}\"\n",
    "    response = requests.get(url)\n",
    "    data = response.json()\n",
    "    if len(data[\"features\"]) > 0:\n",
    "        return data[\"features\"][0][\"geometry\"][\"coordinates\"]\n",
    "    else:\n",
    "        return None\n",
    "\n",
    "def get_travel_time(origin, destination, api_key):\n",
    "    origin_coords = get_coordinates(origin, api_key)\n",
    "    destination_coords = get_coordinates(destination, api_key)\n",
    "    \n",
    "    if origin_coords is None or destination_coords is None:\n",
    "        return None\n",
    "\n",
    "    headers = {\n",
    "        'Accept': 'application/json, application/geo+json, application/gpx+xml, img/png; charset=utf-8',\n",
    "    }\n",
    "    # \"driving-hgv\" in the follwong linik represents the Trucking travel mode\n",
    "    call = requests.get(f'https://api.openrouteservice.org/v2/directions/driving-hgv?api_key={api_key}&start={origin_coords[0]},{origin_coords[1]}&end={destination_coords[0]},{destination_coords[1]}', headers=headers)\n",
    "\n",
    "    if call.status_code != 200:\n",
    "        print(f\"Error in API response. Status code: {call.status_code}, Message: {call.reason}\")\n",
    "        return None\n",
    "    \n",
    "    data = call.json()\n",
    "    travel_time = data[\"features\"][0][\"properties\"][\"segments\"][0][\"duration\"]\n",
    "\n",
    "    return travel_time # get more details about route here: https://giscience.github.io/openrouteservice/documentation/extra-info/Extra-Info.html"
   ]
  },
  {
   "cell_type": "markdown",
   "id": "0d4cce57",
   "metadata": {},
   "source": [
    "Defining Model Inputs:"
   ]
  },
  {
   "cell_type": "code",
   "execution_count": 4,
   "id": "985a7f24",
   "metadata": {},
   "outputs": [],
   "source": [
    "#Model Inputs:\n",
    "origin = \"New York, NY\"  # Replace with your origin address\n",
    "destination = \"Washington, DC\"  # Replace with your destination address \n",
    "api_key = \"Your OpenRouteService API\"  # Replace with your OpenRouteService API key"
   ]
  },
  {
   "cell_type": "markdown",
   "id": "48023387",
   "metadata": {},
   "source": [
    "Utilizing the previously created functions to estimate the travel time for truck travel mode:"
   ]
  },
  {
   "cell_type": "code",
   "execution_count": 5,
   "id": "33b781ab",
   "metadata": {},
   "outputs": [
    {
     "name": "stdout",
     "output_type": "stream",
     "text": [
      "Estimated travel time between New York, NY and Washington, DC is 371.42 minutes.\n"
     ]
    }
   ],
   "source": [
    "#Utilizing the previously created functions to estimate the travel time for truck travel mode:\n",
    "\n",
    "travel_time = get_travel_time(origin, destination, api_key)\n",
    "\n",
    "if travel_time:\n",
    "    print(f\"Estimated travel time between {origin} and {destination} is {travel_time / 60:.2f} minutes.\")\n",
    "\n",
    "else:\n",
    "    print(\"Unable to calculate travel time.\")\n",
    "\n"
   ]
  },
  {
   "cell_type": "markdown",
   "id": "ea9381e3",
   "metadata": {},
   "source": [
    "To access the OpenRouteService API, please visit their website at: https://openrouteservice.org/\n",
    "Also you can watch this video: https://www.youtube.com/watch?v=xBxWuq8SR6k"
   ]
  }
 ],
 "metadata": {
  "kernelspec": {
   "display_name": "Python 3 (ipykernel)",
   "language": "python",
   "name": "python3"
  },
  "language_info": {
   "codemirror_mode": {
    "name": "ipython",
    "version": 3
   },
   "file_extension": ".py",
   "mimetype": "text/x-python",
   "name": "python",
   "nbconvert_exporter": "python",
   "pygments_lexer": "ipython3",
   "version": "3.9.16"
  }
 },
 "nbformat": 4,
 "nbformat_minor": 5
}
